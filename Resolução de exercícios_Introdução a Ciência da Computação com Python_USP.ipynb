{
 "cells": [
  {
   "cell_type": "markdown",
   "metadata": {},
   "source": [
    "Faça um programa em Python que realize o cálculo das raízes com a fórmula de Bhaskara:"
   ]
  },
  {
   "cell_type": "code",
   "execution_count": null,
   "metadata": {},
   "outputs": [],
   "source": [
    "import math\n",
    "\n",
    "a= float(input(\"Digite o valor de a: \"))\n",
    "b = float(input(\"Digite o valor de b: \"))\n",
    "c = float(input(\"Digite o valor de c: \"))\n",
    "\n",
    "\n",
    "delta = b ** 2 - 4 * a * c\n",
    "\n",
    "if delta == 0:\n",
    "    raiz1 = (-b + math.sqrt(delta))/(2 * a)\n",
    "    print(\"A única raiz é:\", raiz1)\n",
    "else:\n",
    "    if delta < 0:\n",
    "        print(\"Esta esquação não possui raízes reais\")\n",
    "    else:\n",
    "        raiz1 = (-b + math.sqrt(delta))/(2 * a)\n",
    "        raiz2 = (-b - math.sqrt(delta))/(2 * a)\n",
    "        print(\"A primeira raiz é: \", raiz1)\n",
    "        print(\"A primeira raiz é: \", raiz2)"
   ]
  },
  {
   "cell_type": "markdown",
   "metadata": {},
   "source": [
    "Faça um programa em Python para ser usado com um Conversor de segundos:"
   ]
  },
  {
   "cell_type": "code",
   "execution_count": null,
   "metadata": {},
   "outputs": [],
   "source": [
    "segundos_str = input(\"Por favor, entre com o numero de segundos que deseja converter: \")\n",
    "total_segs = int(segundos_str)\n",
    "horas = total_segs // 3600\n",
    "segs_restantes = total_segs % 3600\n",
    "minutos = segs_restantes // 60\n",
    "segs_restantes_final = segs_restantes % 60\n",
    "\n",
    "print (horas, \"horas, \", minutos, \"minutos e \", segs_restantes_final, \"segundos.\")"
   ]
  },
  {
   "cell_type": "markdown",
   "metadata": {},
   "source": [
    "Faça um programa em Python que receba (entrada de dados) o valor correspondente ao lado de um quadrado, calcule e imprima (saída de dados) seu perímetro e sua área.\n",
    "\n",
    "Observação: a saída deve estar no formato: \"perímetro: x - área: y\""
   ]
  },
  {
   "cell_type": "code",
   "execution_count": null,
   "metadata": {},
   "outputs": [],
   "source": [
    "entrada = int(input(\"Digite o valor correspondente ao lado de um quadrado: \"))\n",
    "perimetro = entrada * 4\n",
    "area = entrada * entrada\n",
    "print (\"perímetro:\", perimetro, \" - área: \", area)"
   ]
  },
  {
   "cell_type": "markdown",
   "metadata": {},
   "source": [
    "Receba 4 números na entrada, um de cada vez. Os dois primeiros devem corresponder, respectivamente, às coordenadas x e y de um ponto em um plano cartesiano. Os dois últimos devem corresponder, respectivamente, às coordenadas x e y de um outro ponto no mesmo plano.\n",
    "\n",
    "Calcule a distância entre os dois pontos. Se a distância for maior ou igual a 10, imprima\n",
    "\n",
    "longe\n",
    "\n",
    "na saída. Caso o contrário, quando a distância for menor que 10, imprima\n",
    "\n",
    "perto"
   ]
  },
  {
   "cell_type": "code",
   "execution_count": null,
   "metadata": {},
   "outputs": [],
   "source": [
    "import math\n",
    "\n",
    "x1 = float(input(\"Digite o valor de x1: \"))\n",
    "y1 = float(input(\"Digite o valor de y1: \"))\n",
    "x2 = float(input(\"Digite o valor de x2: \"))\n",
    "y2 = float(input(\"Digite o valor de y2: \"))\n",
    "\n",
    "distancia = math.sqrt((x1 - x2)**2 + (y1 - y2) ** 2) \n",
    "\n",
    "if (distancia >= 10):\n",
    "       print(\"longe\")\n",
    "else:\n",
    "        print(\"perto\")"
   ]
  },
  {
   "cell_type": "code",
   "execution_count": null,
   "metadata": {},
   "outputs": [],
   "source": []
  },
  {
   "cell_type": "code",
   "execution_count": null,
   "metadata": {},
   "outputs": [],
   "source": []
  },
  {
   "cell_type": "code",
   "execution_count": null,
   "metadata": {},
   "outputs": [],
   "source": []
  },
  {
   "cell_type": "code",
   "execution_count": null,
   "metadata": {},
   "outputs": [],
   "source": []
  },
  {
   "cell_type": "code",
   "execution_count": null,
   "metadata": {},
   "outputs": [],
   "source": []
  },
  {
   "cell_type": "code",
   "execution_count": null,
   "metadata": {},
   "outputs": [],
   "source": []
  },
  {
   "cell_type": "code",
   "execution_count": null,
   "metadata": {},
   "outputs": [],
   "source": []
  },
  {
   "cell_type": "code",
   "execution_count": null,
   "metadata": {},
   "outputs": [],
   "source": []
  },
  {
   "cell_type": "code",
   "execution_count": null,
   "metadata": {},
   "outputs": [],
   "source": []
  },
  {
   "cell_type": "code",
   "execution_count": null,
   "metadata": {},
   "outputs": [],
   "source": []
  },
  {
   "cell_type": "code",
   "execution_count": null,
   "metadata": {},
   "outputs": [],
   "source": []
  },
  {
   "cell_type": "code",
   "execution_count": null,
   "metadata": {},
   "outputs": [],
   "source": []
  }
 ],
 "metadata": {
  "kernelspec": {
   "display_name": "Python 3",
   "language": "python",
   "name": "python3"
  },
  "language_info": {
   "codemirror_mode": {
    "name": "ipython",
    "version": 3
   },
   "file_extension": ".py",
   "mimetype": "text/x-python",
   "name": "python",
   "nbconvert_exporter": "python",
   "pygments_lexer": "ipython3",
   "version": "3.8.3"
  }
 },
 "nbformat": 4,
 "nbformat_minor": 4
}
