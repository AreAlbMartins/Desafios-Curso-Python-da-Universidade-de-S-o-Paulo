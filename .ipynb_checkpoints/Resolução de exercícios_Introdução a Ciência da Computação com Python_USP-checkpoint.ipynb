{
 "cells": [
  {
   "cell_type": "markdown",
   "metadata": {},
   "source": [
    "Cálculo das raízes com a fórmula de Bhaskara"
   ]
  },
  {
   "cell_type": "code",
   "execution_count": 1,
   "metadata": {},
   "outputs": [
    {
     "name": "stdout",
     "output_type": "stream",
     "text": [
      "Digite o valor de a: 23\n",
      "Digite o valor de b: 25\n",
      "Digite o valor de c: 25\n",
      "Esta esquação não possui raízes reais\n"
     ]
    }
   ],
   "source": [
    "import math\n",
    "\n",
    "a= float(input(\"Digite o valor de a: \"))\n",
    "b = float(input(\"Digite o valor de b: \"))\n",
    "c = float(input(\"Digite o valor de c: \"))\n",
    "\n",
    "\n",
    "delta = b ** 2 - 4 * a * c\n",
    "\n",
    "if delta == 0:\n",
    "    raiz1 = (-b + math.sqrt(delta))/(2 * a)\n",
    "    print(\"A única raiz é:\", raiz1)\n",
    "else:\n",
    "    if delta < 0:\n",
    "        print(\"Esta esquação não possui raízes reais\")\n",
    "    else:\n",
    "        raiz1 = (-b + math.sqrt(delta))/(2 * a)\n",
    "        raiz2 = (-b - math.sqrt(delta))/(2 * a)\n",
    "        print(\"A primeira raiz é: \", raiz1)\n",
    "        print(\"A primeira raiz é: \", raiz2)"
   ]
  },
  {
   "cell_type": "code",
   "execution_count": null,
   "metadata": {},
   "outputs": [],
   "source": []
  }
 ],
 "metadata": {
  "kernelspec": {
   "display_name": "Python 3",
   "language": "python",
   "name": "python3"
  },
  "language_info": {
   "codemirror_mode": {
    "name": "ipython",
    "version": 3
   },
   "file_extension": ".py",
   "mimetype": "text/x-python",
   "name": "python",
   "nbconvert_exporter": "python",
   "pygments_lexer": "ipython3",
   "version": "3.8.3"
  }
 },
 "nbformat": 4,
 "nbformat_minor": 4
}
