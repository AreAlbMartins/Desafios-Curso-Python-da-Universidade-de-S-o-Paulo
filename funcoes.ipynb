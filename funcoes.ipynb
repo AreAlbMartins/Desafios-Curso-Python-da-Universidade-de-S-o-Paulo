{
 "cells": [
  {
   "cell_type": "markdown",
   "metadata": {},
   "source": [
    "Aqui veremos como utilizar funções para diminuir a repetição de códigos dentro dos nossos programas e aprender a utilizar o pytest para criar testes automatizados:"
   ]
  },
  {
   "cell_type": "code",
   "execution_count": null,
   "metadata": {},
   "outputs": [],
   "source": []
  },
  {
   "cell_type": "markdown",
   "metadata": {},
   "source": [
    "Faça uma função que retorne o cálculo do coeficiente binomial. Implemente testes manuais:"
   ]
  },
  {
   "cell_type": "code",
   "execution_count": 3,
   "metadata": {},
   "outputs": [],
   "source": [
    "def fatorial(n):\n",
    "    fator = 1\n",
    "    while n > 1:\n",
    "        fator = fator * n\n",
    "        n = n -1\n",
    "    return fator\n",
    "\n",
    "def calculo_binomial(n, k):\n",
    "    return fatorial(n) // (fatorial(k) * fatorial(n-k))\n",
    "\n",
    "\n",
    "def testa_fatorial():\n",
    "    if fatorial(1) == 1:\n",
    "        print(\"funciona para 1\")\n",
    "    else:\n",
    "        print(\"não funciona para 1\")\n",
    "    if fatorial(2) == 2:\n",
    "        print(\"funciona para 2\")\n",
    "    else:\n",
    "        print(\"não funciona para 2\")\n",
    "    if fatorial(0) == 1:\n",
    "        print(\"funciona para 0\")\n",
    "    else:\n",
    "        print(\"não funciona para 0\")\n",
    "    if fatorial(5) == 120:\n",
    "        print(\"funciona para 5\")\n",
    "    else:\n",
    "        print(\"não funciona para 5\")\n",
    "\n",
    "\n",
    "def testa_binomial():\n",
    "    if numero_binomial(9,3) == 84:\n",
    "        print(\"funciona para 9,3\")\n",
    "    else:\n",
    "        print(\"não funciona para 9\")\n",
    "    if numero_binomial(4,2) == 6:\n",
    "        print(\"funciona para 4,2\")\n",
    "    else:\n",
    "        print(\"não funciona para 4\")\n",
    "    if numero_binomial(6,4) == 15:\n",
    "        print(\"funciona para 6,4\")\n",
    "    else:\n",
    "        print(\"não funciona para 6,4\")        \n",
    "  \n",
    "              "
   ]
  },
  {
   "cell_type": "markdown",
   "metadata": {},
   "source": [
    "Utilizando o pytest. Faça uma função e implemente testes automatizados:"
   ]
  },
  {
   "cell_type": "code",
   "execution_count": 4,
   "metadata": {},
   "outputs": [],
   "source": [
    "def fatorial(n):\n",
    "    if n < 0:\n",
    "        return 0\n",
    "    fat = i = 1\n",
    "    while i <= n:\n",
    "        fat = fat * i\n",
    "        i = i + 1\n",
    "    return fat\n",
    "\n",
    "def test_fatorial0():\n",
    "    assert fatorial(0) == 1\n",
    "\n",
    "def test_fatorial1():\n",
    "    assert fatorial (1) == 1\n",
    "\n",
    "def test_fatorial_negativo():\n",
    "    assert fatorial(-10) == 0\n",
    "\n",
    "def test_fatorial4():\n",
    "    assert fatorial(4) == 24\n",
    "\n",
    "def test_fatorial5():\n",
    "    assert fatorial(5) == 120"
   ]
  },
  {
   "cell_type": "markdown",
   "metadata": {},
   "source": [
    "Desenvolva uma função que retorne o cálculo de baskara:"
   ]
  },
  {
   "cell_type": "code",
   "execution_count": null,
   "metadata": {},
   "outputs": [],
   "source": [
    "import math\n",
    "\n",
    "def delta(a, b, c):\n",
    "    return b ** 2 - 4 * a * c\n",
    "\n",
    "def main():\n",
    "    a= float(input(\"Digite o valor de a: \"))\n",
    "    b = float(input(\"Digite o valor de b: \"))\n",
    "    c = float(input(\"Digite o valor de c: \"))\n",
    "    imprime_raizes(a, b, c)\n",
    "\n",
    "def imprime_raizes (a,b,c):\n",
    "    d = delta(a, b, c) \n",
    "    if d == 0:\n",
    "        raiz1 = (-b + math.sqrt(d))/(2 * a)\n",
    "        print(\"A única raiz é:\", raiz1)\n",
    "    else:\n",
    "        if d < 0:\n",
    "            print(\"Esta esquação não possui raízes reais\")\n",
    "        else:\n",
    "            raiz1 = (-b + math.sqrt(d))/(2 * a)\n",
    "            raiz2 = (-b - math.sqrt(d))/(2 * a)\n",
    "            print(\"A primeira raiz é: \", raiz1)\n",
    "            print(\"A primeira raiz é: \", raiz2)\n",
    "            \n",
    "main()"
   ]
  },
  {
   "cell_type": "markdown",
   "metadata": {},
   "source": [
    "Faça uma função que devolva o cálculo das combinações possíveis de dois valores:"
   ]
  },
  {
   "cell_type": "code",
   "execution_count": null,
   "metadata": {},
   "outputs": [],
   "source": [
    "def fatorial(n):\n",
    "    x = n\n",
    "    a = 1\n",
    "\n",
    "    while x > 0:\n",
    "        a =x * a\n",
    "        x = x -1\n",
    "    return(a)\n",
    "\n",
    "def combinacao(n,k):\n",
    "    return fatorial(n) // (fatorial(k)* fatorial(n - k))\n",
    "\n",
    "combinacao(5,3)"
   ]
  },
  {
   "cell_type": "markdown",
   "metadata": {},
   "source": [
    "Faça uma função que receba uma sequência de números positivos digitados pelo usuário e devolva o seu fatorial"
   ]
  },
  {
   "cell_type": "code",
   "execution_count": null,
   "metadata": {},
   "outputs": [],
   "source": [
    "def main ():\n",
    "    n = int(input(\"Digite um número: \"))\n",
    "    while n >= 0:\n",
    "        fatorial(n)\n",
    "        n = int(input(\"Digite o próximo numero: \"))\n",
    "\n",
    "\n",
    "def fatorial(n):\n",
    "    fat = 1\n",
    "    while n > 0:\n",
    "        fat = n * fat\n",
    "        n  = n - 1\n",
    "    print(fat)\n",
    "    \n",
    "main()"
   ]
  },
  {
   "cell_type": "markdown",
   "metadata": {},
   "source": [
    "Faça uma função que retorne o maior número primo em um range de um número:"
   ]
  },
  {
   "cell_type": "code",
   "execution_count": null,
   "metadata": {},
   "outputs": [],
   "source": [
    "def maior_primo(x):\n",
    "\n",
    "\n",
    "    primo = x\n",
    "    divisor = 2\n",
    "    maior = False\n",
    "\n",
    "    while maior == False:\n",
    "\n",
    "        while primo % divisor != 0 and divisor ** 2 <= primo:\n",
    "            divisor = divisor + 1\n",
    "\n",
    "\n",
    "        if primo % divisor != 0 and divisor ** 2 >= primo:\n",
    "            maior = True\n",
    "\n",
    "\n",
    "        elif divisor ** 2 <= primo or primo % divisor == 0:\n",
    "            primo = primo - 1\n",
    "            divisor = 2\n",
    "\n",
    "\n",
    "    if maior == True:\n",
    "        return(primo)\n",
    "    \n",
    "maior_primo(100)"
   ]
  },
  {
   "cell_type": "markdown",
   "metadata": {},
   "source": [
    "Crie uma função que remova os números repetidos em uma lista informada:"
   ]
  },
  {
   "cell_type": "code",
   "execution_count": null,
   "metadata": {},
   "outputs": [],
   "source": [
    "lista = [1,2,3,4,5,6,6,6,7,7,8]\n",
    "lista_nova = []\n",
    "\n",
    "def remove_repetidos(lista):\n",
    "    lista.sort()\n",
    "    for i in lista:\n",
    "        if i not in lista_nova:\n",
    "            lista_nova.append(i)\n",
    "        return (lista_nova)\n",
    "    \n",
    "remove_repetidos(lista)"
   ]
  },
  {
   "cell_type": "code",
   "execution_count": null,
   "metadata": {},
   "outputs": [],
   "source": [
    "Crie duas matrizes, e faça o cálculo da soma dessas duas matrizes:"
   ]
  },
  {
   "cell_type": "code",
   "execution_count": null,
   "metadata": {},
   "outputs": [],
   "source": [
    "m1 = ([[1, 2], [3, 4]])\n",
    "m2 =([[1, 2], [3, 4]])\n",
    "\n",
    "\n",
    "        \n",
    "def soma_matrizes(m1, m2):\n",
    "    if len(m1) !=  len(m2) or len(m1[0]) != len(m2[0]):\n",
    "        return False\n",
    "    else:\n",
    "        calculo = m1\n",
    "        linsm1 = len(m1)\n",
    "        colsm1 = len(m1[0])\n",
    "        for i in range(linsm1):\n",
    "            for j in range(colsm1):\n",
    "                calculo[i][j] = m1[i][j] + m2[i][j]\n",
    "        return calculo\n",
    "    \n",
    "soma_matrizes(m1, m2)"
   ]
  },
  {
   "cell_type": "markdown",
   "metadata": {},
   "source": [
    "Faça uma função para criar matrizes:"
   ]
  },
  {
   "cell_type": "code",
   "execution_count": 2,
   "metadata": {},
   "outputs": [
    {
     "name": "stdout",
     "output_type": "stream",
     "text": [
      "Digite o elemento [0][0]: 1\n",
      "Digite o elemento [1][0]: 1\n",
      "Digite o elemento [2][0]: 1\n",
      "Digite o elemento [3][0]: 1\n",
      "Digite o elemento [0][1]: 1\n",
      "Digite o elemento [1][1]: 1\n",
      "Digite o elemento [2][1]: 1\n",
      "Digite o elemento [3][1]: 1\n",
      "Digite o elemento [0][2]: 1\n",
      "Digite o elemento [1][2]: 1\n",
      "Digite o elemento [2][2]: 1\n",
      "Digite o elemento [3][2]: 1\n",
      "Digite o elemento [0][3]: 1\n",
      "Digite o elemento [1][3]: 1\n",
      "Digite o elemento [2][3]: 11111\n",
      "Digite o elemento [3][3]: 1\n"
     ]
    },
    {
     "data": {
      "text/plain": [
       "[[1, 1, 1, 1], [1, 1, 1, 1], [1, 1, 1, 1], [1, 1, 11111, 1]]"
      ]
     },
     "execution_count": 2,
     "metadata": {},
     "output_type": "execute_result"
    }
   ],
   "source": [
    "def cria_matriz(num_linhas, num_colunas):\n",
    "    matriz = []\n",
    "    for i in range(num_colunas):\n",
    "        coluna = []\n",
    "        for j in range(num_linhas):\n",
    "            valor = int(input(\"Digite o elemento [\" + str(j) + \"][\" + str(i) + \"]: \"))\n",
    "            coluna.append(valor)\n",
    "        matriz.append(coluna)\n",
    "    return matriz\n",
    "\n",
    "cria_matriz(4, 4)"
   ]
  },
  {
   "cell_type": "code",
   "execution_count": null,
   "metadata": {},
   "outputs": [],
   "source": []
  }
 ],
 "metadata": {
  "kernelspec": {
   "display_name": "Python 3",
   "language": "python",
   "name": "python3"
  },
  "language_info": {
   "codemirror_mode": {
    "name": "ipython",
    "version": 3
   },
   "file_extension": ".py",
   "mimetype": "text/x-python",
   "name": "python",
   "nbconvert_exporter": "python",
   "pygments_lexer": "ipython3",
   "version": "3.8.3"
  }
 },
 "nbformat": 4,
 "nbformat_minor": 4
}
